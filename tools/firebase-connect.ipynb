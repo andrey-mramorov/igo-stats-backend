{
 "cells": [
  {
   "cell_type": "code",
   "execution_count": 1,
   "id": "potential-referral",
   "metadata": {},
   "outputs": [],
   "source": [
    "import firebase_admin\n",
    "import os\n",
    "#from firebase_admin import db\n",
    "from firebase_admin import credentials, firestore"
   ]
  },
  {
   "cell_type": "code",
   "execution_count": 2,
   "id": "adverse-alaska",
   "metadata": {},
   "outputs": [],
   "source": [
    "curr_dir = os.getcwd()"
   ]
  },
  {
   "cell_type": "markdown",
   "id": "flexible-orientation",
   "metadata": {},
   "source": [
    "### Connect to firestore"
   ]
  },
  {
   "cell_type": "code",
   "execution_count": 4,
   "id": "automated-class",
   "metadata": {},
   "outputs": [],
   "source": [
    "#connect to firebase project (initialize app)\n",
    "cred = credentials.Certificate('..' + '/sdk_key/igo-stats-firebase-adminsdk-vwmdk-b32d0db07c.json')\n",
    "default_app = firebase_admin.initialize_app(cred)"
   ]
  },
  {
   "cell_type": "code",
   "execution_count": 5,
   "id": "south-practitioner",
   "metadata": {},
   "outputs": [],
   "source": [
    "#connect to firestore database\n",
    "database = firestore.client()"
   ]
  },
  {
   "cell_type": "markdown",
   "id": "technological-klein",
   "metadata": {},
   "source": [
    "### Add collection with data"
   ]
  },
  {
   "cell_type": "code",
   "execution_count": 5,
   "id": "indian-reducing",
   "metadata": {},
   "outputs": [
    {
     "data": {
      "text/plain": [
       "(DatetimeWithNanoseconds(2022, 3, 27, 16, 41, 11, 11772, tzinfo=datetime.timezone.utc),\n",
       " <google.cloud.firestore_v1.document.DocumentReference at 0x7f5004e81100>)"
      ]
     },
     "execution_count": 5,
     "metadata": {},
     "output_type": "execute_result"
    }
   ],
   "source": [
    "database.collection('towns').add({'title':'Moscow', 'region':'Moscow'})"
   ]
  },
  {
   "cell_type": "markdown",
   "id": "dedicated-latin",
   "metadata": {},
   "source": [
    "### Add documents to collection"
   ]
  },
  {
   "cell_type": "code",
   "execution_count": 6,
   "id": "immediate-telephone",
   "metadata": {},
   "outputs": [],
   "source": [
    "data = {'name':'Andrew', 'rank':'3d', 'city':'Moscow'}"
   ]
  },
  {
   "cell_type": "code",
   "execution_count": 9,
   "id": "earned-apartment",
   "metadata": {},
   "outputs": [
    {
     "data": {
      "text/plain": [
       "update_time {\n",
       "  seconds: 1648489344\n",
       "  nanos: 934692000\n",
       "}"
      ]
     },
     "execution_count": 9,
     "metadata": {},
     "output_type": "execute_result"
    }
   ],
   "source": [
    "database.collection('members').document('Andrew Mramorov').set(data)"
   ]
  },
  {
   "cell_type": "markdown",
   "id": "intense-scenario",
   "metadata": {},
   "source": [
    "### Merge documents"
   ]
  },
  {
   "cell_type": "code",
   "execution_count": 11,
   "id": "portuguese-small",
   "metadata": {},
   "outputs": [
    {
     "data": {
      "text/plain": [
       "update_time {\n",
       "  seconds: 1648489407\n",
       "  nanos: 510531000\n",
       "}"
      ]
     },
     "execution_count": 11,
     "metadata": {},
     "output_type": "execute_result"
    }
   ],
   "source": [
    "database.collection('members').document('Andrew Mramorov').set({'mood':'sad'}, merge=True)"
   ]
  },
  {
   "cell_type": "code",
   "execution_count": null,
   "id": "streaming-branch",
   "metadata": {},
   "outputs": [],
   "source": [
    "### Update array-field at"
   ]
  },
  {
   "cell_type": "code",
   "execution_count": 7,
   "id": "circular-combine",
   "metadata": {},
   "outputs": [
    {
     "data": {
      "text/plain": [
       "update_time {\n",
       "  seconds: 1651184287\n",
       "  nanos: 826967000\n",
       "}\n",
       "transform_results {\n",
       "  null_value: NULL_VALUE\n",
       "}"
      ]
     },
     "execution_count": 7,
     "metadata": {},
     "output_type": "execute_result"
    }
   ],
   "source": [
    "database.collection('collection_name').document('document_id').update({'array_name': firestore.ArrayUnion(['val'])})"
   ]
  },
  {
   "cell_type": "markdown",
   "id": "demonstrated-cookbook",
   "metadata": {},
   "source": [
    "### Realtime database URL"
   ]
  },
  {
   "cell_type": "code",
   "execution_count": null,
   "id": "mature-excess",
   "metadata": {},
   "outputs": [],
   "source": [
    "with open(curr_dir + '/sdk_key/realtime_db_url.txt', 'r') as file:\n",
    "    databaseURL = file.readlines()[0].strip()"
   ]
  },
  {
   "cell_type": "code",
   "execution_count": null,
   "id": "ceramic-legislation",
   "metadata": {},
   "outputs": [],
   "source": [
    "#ref = db.reference('/')"
   ]
  }
 ],
 "metadata": {
  "kernelspec": {
   "display_name": "Python 3",
   "language": "python",
   "name": "python3"
  },
  "language_info": {
   "codemirror_mode": {
    "name": "ipython",
    "version": 3
   },
   "file_extension": ".py",
   "mimetype": "text/x-python",
   "name": "python",
   "nbconvert_exporter": "python",
   "pygments_lexer": "ipython3",
   "version": "3.8.10"
  }
 },
 "nbformat": 4,
 "nbformat_minor": 5
}
