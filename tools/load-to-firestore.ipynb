{
 "cells": [
  {
   "cell_type": "code",
   "execution_count": 1,
   "id": "mechanical-institute",
   "metadata": {},
   "outputs": [],
   "source": [
    "import timeit\n",
    "import json"
   ]
  },
  {
   "cell_type": "code",
   "execution_count": 3,
   "id": "boolean-response",
   "metadata": {},
   "outputs": [],
   "source": [
    "import os\n",
    "import pandas as pd\n",
    "import firebase_admin\n",
    "from firebase_admin import credentials, firestore"
   ]
  },
  {
   "cell_type": "code",
   "execution_count": 4,
   "id": "organized-snake",
   "metadata": {},
   "outputs": [],
   "source": [
    "os.chdir('..')\n",
    "cert = os.path.abspath(os.curdir + '/sdk_key/igo-stats-firebase-adminsdk-vwmdk-b32d0db07c.json')"
   ]
  },
  {
   "cell_type": "code",
   "execution_count": 5,
   "id": "bright-north",
   "metadata": {},
   "outputs": [
    {
     "data": {
      "text/plain": [
       "['players.csv', 'players-tournaments.csv', 'tournaments.csv', 'towns.csv']"
      ]
     },
     "execution_count": 5,
     "metadata": {},
     "output_type": "execute_result"
    }
   ],
   "source": [
    "local_db_folder = os.curdir + '/db-samples'\n",
    "tables = os.listdir(local_db_folder)\n",
    "tables"
   ]
  },
  {
   "cell_type": "markdown",
   "id": "marine-nebraska",
   "metadata": {},
   "source": [
    "### Connect to firestore db"
   ]
  },
  {
   "cell_type": "code",
   "execution_count": 6,
   "id": "sustained-insertion",
   "metadata": {},
   "outputs": [],
   "source": [
    "cred = credentials.Certificate(cert)\n",
    "default_app = firebase_admin.initialize_app(cred)"
   ]
  },
  {
   "cell_type": "code",
   "execution_count": 7,
   "id": "interior-instruction",
   "metadata": {},
   "outputs": [],
   "source": [
    "fs_db = firestore.client()"
   ]
  },
  {
   "cell_type": "markdown",
   "id": "accurate-booth",
   "metadata": {},
   "source": [
    "### Load local db"
   ]
  },
  {
   "cell_type": "code",
   "execution_count": 8,
   "id": "boxed-pregnancy",
   "metadata": {},
   "outputs": [],
   "source": [
    "players_header = ['id', 'last_name', 'first_name', 'birth_date', 'town_id', 'rating', 'last_game', 'last_update']"
   ]
  },
  {
   "cell_type": "code",
   "execution_count": 9,
   "id": "attached-justice",
   "metadata": {},
   "outputs": [],
   "source": [
    "players_table = pd.read_csv(local_db_folder + '/' + tables[0], header=None)\n",
    "players_table.columns = players_header"
   ]
  },
  {
   "cell_type": "code",
   "execution_count": 10,
   "id": "limited-region",
   "metadata": {},
   "outputs": [],
   "source": [
    "# Data slice for test\n",
    "players_table_test = players_table[:5]"
   ]
  },
  {
   "cell_type": "code",
   "execution_count": 59,
   "id": "humanitarian-process",
   "metadata": {},
   "outputs": [],
   "source": [
    "# Different way to transform table to firestore-nosql-documents\n",
    "json_string = players_table_test.to_json(orient='records')"
   ]
  },
  {
   "cell_type": "code",
   "execution_count": 29,
   "id": "romantic-injury",
   "metadata": {},
   "outputs": [],
   "source": [
    "json_dict = players_table_test.to_dict(orient='records')"
   ]
  },
  {
   "cell_type": "code",
   "execution_count": 40,
   "id": "interim-operations",
   "metadata": {},
   "outputs": [
    {
     "data": {
      "text/plain": [
       "update_time {\n",
       "  seconds: 1649961024\n",
       "  nanos: 154468000\n",
       "}"
      ]
     },
     "execution_count": 40,
     "metadata": {},
     "output_type": "execute_result"
    }
   ],
   "source": [
    "#fs_db.collection('members').add(json_dict[0])\n",
    "fs_db.collection('members').document('Timur Sankin').set(json_dict[-2], merge=True)"
   ]
  },
  {
   "cell_type": "code",
   "execution_count": null,
   "id": "swiss-latvia",
   "metadata": {},
   "outputs": [],
   "source": [
    "# Print json file (to check)\n",
    "'''\n",
    "parsed = json.loads(json_string) # json -> list of dicts\n",
    "readable_json = json.dumps(parsed, indent = 4, ensure_ascii=False).encode('utf8')\n",
    "final_json_string = readable_json.decode()\n",
    "print(final_json)\n",
    "'''"
   ]
  },
  {
   "cell_type": "markdown",
   "id": "muslim-relaxation",
   "metadata": {},
   "source": [
    "### Class for uploading different files or strings to Firestore"
   ]
  },
  {
   "cell_type": "code",
   "execution_count": 82,
   "id": "received-above",
   "metadata": {},
   "outputs": [],
   "source": [
    "'''\n",
    " This class is using for upload data to Firestore.\n",
    " It supports only-json like objects:\n",
    " 1) JSON-string (just python string, which can be formatted as JSON)\n",
    " 2) List of dicts / dict\n",
    " 3) JSON-file path\n",
    " UploadDataToFirestore supports these methods of upload:\n",
    " 1) 'set'\n",
    "    'set' is using to add documents with custom id. Defaultly this method takes 'id' field in dict.\n",
    " 2) 'add'\n",
    "    'add' adds document without id (document name). So firestore will set id authomatically.\n",
    " \n",
    " To upload something firstly you need to create object:\n",
    "     some_name = UploadDataToFirestore()\n",
    " and specify some values like that:\n",
    "     some_name.json_data = some_string_or_list\n",
    "     some_name.method = some_method\n",
    "     some_name.collection_name = some_collection_name\n",
    " or give these variables initializing object:\n",
    "     some_name = UploadDataToFirestore(some_string_or_list, some_method, some_collection_name)\n",
    "     \n",
    " then just use:\n",
    "     some_name.upload()\n",
    "'''\n",
    "\n",
    "class UploadDataToFirestore:\n",
    "    def __init__(self, json_data=None, method=None, collection_name=None) -> None:\n",
    "        # Get class running time\n",
    "        self.start = timeit.default_timer()\n",
    "        \n",
    "        # Initialize instance variables\n",
    "        self.json_data = json_data\n",
    "        self.method = method\n",
    "        self.collection_name = collection_name\n",
    "    \n",
    "    def __str__(self) -> str:\n",
    "        return (f'Uploading ***{self.file}*** JSON items to firestore!')\n",
    "    \n",
    "    # Firestore upload method getter method\n",
    "    @property\n",
    "    def method(self):\n",
    "        return self._method\n",
    "    \n",
    "    # Firestore upload method setter method\n",
    "    @method.setter\n",
    "    def method(self, val):\n",
    "        if type(val) == None:\n",
    "            print(f'Please, specify method of upload')\n",
    "        elif val == 'set' or val == 'add':\n",
    "            self._method = val\n",
    "        else:\n",
    "            print(f'Wrong method {val}, use set or add')\n",
    "    \n",
    "    # Collection name getter method\n",
    "    @property\n",
    "    def collection_name(self):\n",
    "        return self._collection_name\n",
    "    \n",
    "    # Collection name setter method\n",
    "    @collection_name.setter\n",
    "    def collection_name(self, val):\n",
    "        if type(val) == None:\n",
    "            print(f'Please, specify name of collection to upload to')\n",
    "        elif type(val) == str:\n",
    "            self._collection_name = val\n",
    "        else:\n",
    "            print(f'Wrong type for firestore collection name')\n",
    "    \n",
    "    # Get Json file path property\n",
    "    @property\n",
    "    def json_data(self):\n",
    "        return self._json_data\n",
    "    \n",
    "    # Set and process Json file path property\n",
    "    @json_data.setter\n",
    "    def json_data(self, val):\n",
    "        if type(val) == None:\n",
    "            print(f'Please, specify .json file path or give a list of dicts')\n",
    "        elif type(val) == str:\n",
    "            try:\n",
    "                # Opening JSON file\n",
    "                f = open(val, 'r')\n",
    "                \n",
    "                # returns JSON object as a dictionary\n",
    "                data = json.load(f)\n",
    "                \n",
    "                # make sure to close file\n",
    "                f.close()\n",
    "                self._json_data = data\n",
    "            except Exception as e1:\n",
    "                try:\n",
    "                    data = json.loads(val)\n",
    "                    self._json_data = data\n",
    "                except Excepton as e2:\n",
    "                    print(f'JSON string is not correct: {str(e2)}' + '\\n' + f'or wrong file-path name: {str(e1)}')\n",
    "        elif type(val) == list:\n",
    "            if type(val[0]) == dict:\n",
    "                self._json_data = val\n",
    "        else:\n",
    "            print(f'Wrong data type')\n",
    "\n",
    "    # Main class method to populate firestore \n",
    "    # with the said data\n",
    "    def upload(self):\n",
    "        if self.json_data and self.method and type(self.json_data) == list:\n",
    "            # Iterating through the json list\n",
    "            for idx, item in enumerate(self.json_data):\n",
    "                \n",
    "                if self.method == 'set':\n",
    "                    self.set(item)\n",
    "                elif self.method == 'add':\n",
    "                    self.add(item)\n",
    "                # Successfully got to end of data;\n",
    "                # print success message\n",
    "                if idx == len(self.json_data)-1:\n",
    "                    # All the program statements\n",
    "                    stop = timeit.default_timer()\n",
    "                    print('**** SUCCESS UPLOAD ****')\n",
    "                    print(\"Time taken: \" + str(stop - self.start))\n",
    "    # Collection -add- method\n",
    "    # Adds all data under a collection\n",
    "    # with firebase firestore auto generated IDS\n",
    "    def add(self, item):\n",
    "        return fs_db.collection(self.collection_name).add(item)\n",
    "    \n",
    "    # Collection document -set- method\n",
    "    # Adds all data under a collection\n",
    "    # with custom document IDS\n",
    "    def set(self, item):\n",
    "        return fs_db.collection(self.collection_name).document(str(item['id'])).set(item, merge=True)"
   ]
  },
  {
   "cell_type": "code",
   "execution_count": 79,
   "id": "beneficial-vessel",
   "metadata": {},
   "outputs": [],
   "source": [
    "docs = fs_db.collection('members').get() # Get all data\n",
    "for doc in docs:\n",
    "    key = doc.id\n",
    "    fs_db.collection('members').document(key).delete()"
   ]
  },
  {
   "cell_type": "code",
   "execution_count": 77,
   "id": "cordless-motor",
   "metadata": {},
   "outputs": [],
   "source": [
    "# Check loading json string\n",
    "upload_to_fs = UploadDataToFirestore(json_string, 'add', 'members')\n",
    "upload_to_fs.upload()"
   ]
  },
  {
   "cell_type": "code",
   "execution_count": 83,
   "id": "objective-resource",
   "metadata": {},
   "outputs": [
    {
     "name": "stdout",
     "output_type": "stream",
     "text": [
      "**** SUCCESS UPLOAD ****\n",
      "Time taken: 1.5743390250136144\n"
     ]
    }
   ],
   "source": [
    "# Check loading dict\n",
    "upload_to_fs = UploadDataToFirestore(json_dict, 'add', 'members')\n",
    "upload_to_fs.upload()"
   ]
  },
  {
   "cell_type": "code",
   "execution_count": 88,
   "id": "amazing-techno",
   "metadata": {},
   "outputs": [],
   "source": [
    "#os.path.abspath(os.curdir)\n",
    "with open('./test_json.json', 'w') as fw:\n",
    "    json.dump(json_dict, fw, indent=4)"
   ]
  },
  {
   "cell_type": "code",
   "execution_count": 89,
   "id": "seventh-sector",
   "metadata": {},
   "outputs": [
    {
     "name": "stdout",
     "output_type": "stream",
     "text": [
      "**** SUCCESS UPLOAD ****\n",
      "Time taken: 3.003106200019829\n"
     ]
    }
   ],
   "source": [
    "# Check loading json file\n",
    "upload_to_fs = UploadDataToFirestore('./test_json.json', 'add', 'members')\n",
    "upload_to_fs.upload()"
   ]
  },
  {
   "cell_type": "code",
   "execution_count": null,
   "id": "sustainable-trigger",
   "metadata": {},
   "outputs": [],
   "source": []
  }
 ],
 "metadata": {
  "kernelspec": {
   "display_name": "Python 3",
   "language": "python",
   "name": "python3"
  },
  "language_info": {
   "codemirror_mode": {
    "name": "ipython",
    "version": 3
   },
   "file_extension": ".py",
   "mimetype": "text/x-python",
   "name": "python",
   "nbconvert_exporter": "python",
   "pygments_lexer": "ipython3",
   "version": "3.8.10"
  }
 },
 "nbformat": 4,
 "nbformat_minor": 5
}
