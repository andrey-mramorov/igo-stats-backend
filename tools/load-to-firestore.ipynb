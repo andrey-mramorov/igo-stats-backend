{
 "cells": [
  {
   "cell_type": "code",
   "execution_count": 1,
   "id": "mechanical-institute",
   "metadata": {},
   "outputs": [],
   "source": [
    "import timeit\n",
    "import json"
   ]
  },
  {
   "cell_type": "code",
   "execution_count": 3,
   "id": "boolean-response",
   "metadata": {},
   "outputs": [],
   "source": [
    "import os\n",
    "import pandas as pd\n",
    "import firebase_admin\n",
    "from firebase_admin import credentials, firestore"
   ]
  },
  {
   "cell_type": "code",
   "execution_count": 4,
   "id": "organized-snake",
   "metadata": {},
   "outputs": [],
   "source": [
    "os.chdir('..')\n",
    "cert = os.path.abspath(os.curdir + '/sdk_key/igo-stats-firebase-adminsdk-vwmdk-b32d0db07c.json')"
   ]
  },
  {
   "cell_type": "code",
   "execution_count": 5,
   "id": "bright-north",
   "metadata": {},
   "outputs": [
    {
     "data": {
      "text/plain": [
       "['players.csv', 'players-tournaments.csv', 'tournaments.csv', 'towns.csv']"
      ]
     },
     "execution_count": 5,
     "metadata": {},
     "output_type": "execute_result"
    }
   ],
   "source": [
    "local_db_folder = os.curdir + '/db-samples'\n",
    "tables = os.listdir(local_db_folder)\n",
    "tables"
   ]
  },
  {
   "cell_type": "markdown",
   "id": "marine-nebraska",
   "metadata": {},
   "source": [
    "### Connect to firestore db"
   ]
  },
  {
   "cell_type": "code",
   "execution_count": 6,
   "id": "sustained-insertion",
   "metadata": {},
   "outputs": [],
   "source": [
    "cred = credentials.Certificate(cert)\n",
    "default_app = firebase_admin.initialize_app(cred)"
   ]
  },
  {
   "cell_type": "code",
   "execution_count": 7,
   "id": "interior-instruction",
   "metadata": {},
   "outputs": [],
   "source": [
    "fs_db = firestore.client()"
   ]
  },
  {
   "cell_type": "markdown",
   "id": "accurate-booth",
   "metadata": {},
   "source": [
    "### Load local db"
   ]
  },
  {
   "cell_type": "code",
   "execution_count": 8,
   "id": "boxed-pregnancy",
   "metadata": {},
   "outputs": [],
   "source": [
    "players_header = ['id', 'last_name', 'first_name', 'birth_date', 'town_id', 'rating', 'last_game', 'last_update']"
   ]
  },
  {
   "cell_type": "code",
   "execution_count": 9,
   "id": "attached-justice",
   "metadata": {},
   "outputs": [],
   "source": [
    "players_table = pd.read_csv(local_db_folder + '/' + tables[0], header=None)\n",
    "players_table.columns = players_header"
   ]
  },
  {
   "cell_type": "code",
   "execution_count": 10,
   "id": "limited-region",
   "metadata": {},
   "outputs": [],
   "source": [
    "# Data slice for test\n",
    "players_table_test = players_table[:5]"
   ]
  },
  {
   "cell_type": "code",
   "execution_count": 59,
   "id": "humanitarian-process",
   "metadata": {},
   "outputs": [],
   "source": [
    "# Different way to transform table to firestore-nosql-documents\n",
    "json_string = players_table_test.to_json(orient='records')"
   ]
  },
  {
   "cell_type": "code",
   "execution_count": 29,
   "id": "romantic-injury",
   "metadata": {},
   "outputs": [],
   "source": [
    "json_dict = players_table_test.to_dict(orient='records')"
   ]
  },
  {
   "cell_type": "code",
   "execution_count": 40,
   "id": "interim-operations",
   "metadata": {},
   "outputs": [
    {
     "data": {
      "text/plain": [
       "update_time {\n",
       "  seconds: 1649961024\n",
       "  nanos: 154468000\n",
       "}"
      ]
     },
     "execution_count": 40,
     "metadata": {},
     "output_type": "execute_result"
    }
   ],
   "source": [
    "#fs_db.collection('members').add(json_dict[0])\n",
    "fs_db.collection('members').document('Timur Sankin').set(json_dict[-2], merge=True)"
   ]
  },
  {
   "cell_type": "code",
   "execution_count": null,
   "id": "swiss-latvia",
   "metadata": {},
   "outputs": [],
   "source": [
    "# Print json file (to check)\n",
    "'''\n",
    "parsed = json.loads(json_string) # json -> list of dicts\n",
    "readable_json = json.dumps(parsed, indent = 4, ensure_ascii=False).encode('utf8')\n",
    "final_json_string = readable_json.decode()\n",
    "print(final_json)\n",
    "'''"
   ]
  },
  {
   "cell_type": "markdown",
   "id": "muslim-relaxation",
   "metadata": {},
   "source": [
    "### Class for uploading different files or strings to Firestore"
   ]
  },
  {
   "cell_type": "code",
   "execution_count": null,
   "id": "uniform-parade",
   "metadata": {},
   "outputs": [],
   "source": [
    "class UploadDataToFirestore:\n",
    "    pass\n",
    "\n",
    "# now this class is at update_firestore.py module"
   ]
  },
  {
   "cell_type": "code",
   "execution_count": 79,
   "id": "beneficial-vessel",
   "metadata": {},
   "outputs": [],
   "source": [
    "docs = fs_db.collection('members').get() # Get all data\n",
    "for doc in docs:\n",
    "    key = doc.id\n",
    "    fs_db.collection('members').document(key).delete()"
   ]
  },
  {
   "cell_type": "code",
   "execution_count": 77,
   "id": "cordless-motor",
   "metadata": {},
   "outputs": [],
   "source": [
    "# Check loading json string\n",
    "upload_to_fs = UploadDataToFirestore(json_string, 'add', 'members')\n",
    "upload_to_fs.upload()"
   ]
  },
  {
   "cell_type": "code",
   "execution_count": 83,
   "id": "objective-resource",
   "metadata": {},
   "outputs": [
    {
     "name": "stdout",
     "output_type": "stream",
     "text": [
      "**** SUCCESS UPLOAD ****\n",
      "Time taken: 1.5743390250136144\n"
     ]
    }
   ],
   "source": [
    "# Check loading dict\n",
    "upload_to_fs = UploadDataToFirestore(json_dict, 'add', 'members')\n",
    "upload_to_fs.upload()"
   ]
  },
  {
   "cell_type": "code",
   "execution_count": 88,
   "id": "amazing-techno",
   "metadata": {},
   "outputs": [],
   "source": [
    "#os.path.abspath(os.curdir)\n",
    "with open('./test_json.json', 'w') as fw:\n",
    "    json.dump(json_dict, fw, indent=4)"
   ]
  },
  {
   "cell_type": "code",
   "execution_count": 89,
   "id": "seventh-sector",
   "metadata": {},
   "outputs": [
    {
     "name": "stdout",
     "output_type": "stream",
     "text": [
      "**** SUCCESS UPLOAD ****\n",
      "Time taken: 3.003106200019829\n"
     ]
    }
   ],
   "source": [
    "# Check loading json file\n",
    "upload_to_fs = UploadDataToFirestore('./test_json.json', 'add', 'members')\n",
    "upload_to_fs.upload()"
   ]
  },
  {
   "cell_type": "code",
   "execution_count": null,
   "id": "sustainable-trigger",
   "metadata": {},
   "outputs": [],
   "source": []
  }
 ],
 "metadata": {
  "kernelspec": {
   "display_name": "Python 3",
   "language": "python",
   "name": "python3"
  },
  "language_info": {
   "codemirror_mode": {
    "name": "ipython",
    "version": 3
   },
   "file_extension": ".py",
   "mimetype": "text/x-python",
   "name": "python",
   "nbconvert_exporter": "python",
   "pygments_lexer": "ipython3",
   "version": "3.8.10"
  }
 },
 "nbformat": 4,
 "nbformat_minor": 5
}
