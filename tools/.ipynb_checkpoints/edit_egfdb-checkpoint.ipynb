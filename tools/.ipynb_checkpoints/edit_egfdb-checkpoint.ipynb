{
 "cells": [
  {
   "cell_type": "code",
   "execution_count": 1,
   "id": "german-falls",
   "metadata": {},
   "outputs": [],
   "source": [
    "import os\n",
    "import pandas as pd"
   ]
  },
  {
   "cell_type": "code",
   "execution_count": 12,
   "id": "headed-interaction",
   "metadata": {},
   "outputs": [
    {
     "data": {
      "text/plain": [
       "['allworld_lp.html',\n",
       " 'tlist.html',\n",
       " 'all.hst',\n",
       " 'zips',\n",
       " 'clear-htmls',\n",
       " 'alleuro_lp.html']"
      ]
     },
     "execution_count": 12,
     "metadata": {},
     "output_type": "execute_result"
    }
   ],
   "source": [
    "curr_dir = os.getcwd()\n",
    "db_path = os.chdir(\"../egf-db\")\n",
    "db_path = os.path.abspath(os.curdir)\n",
    "tables = os.listdir()\n",
    "tables"
   ]
  },
  {
   "cell_type": "code",
   "execution_count": 16,
   "id": "chemical-thailand",
   "metadata": {},
   "outputs": [
    {
     "name": "stdout",
     "output_type": "stream",
     "text": [
      "['T220403B', '', 'C', '', '3', '', '', '17', '', '', '(UK)', '', 'OGS,', 'Schools', 'Team']\n",
      "\n",
      "pizdec\n"
     ]
    }
   ],
   "source": [
    "with open(db_path + '/' + tables[1], 'r', encoding='utf8') as tlist:\n",
    "    line = tlist.readline().strip()\n",
    "    print(line.split(' '), 'pizdec', sep='\\n\\n')"
   ]
  },
  {
   "cell_type": "code",
   "execution_count": null,
   "id": "blond-harrison",
   "metadata": {},
   "outputs": [],
   "source": [
    "---"
   ]
  }
 ],
 "metadata": {
  "kernelspec": {
   "display_name": "Python 3",
   "language": "python",
   "name": "python3"
  },
  "language_info": {
   "codemirror_mode": {
    "name": "ipython",
    "version": 3
   },
   "file_extension": ".py",
   "mimetype": "text/x-python",
   "name": "python",
   "nbconvert_exporter": "python",
   "pygments_lexer": "ipython3",
   "version": "3.8.10"
  }
 },
 "nbformat": 4,
 "nbformat_minor": 5
}
