{
 "cells": [
  {
   "cell_type": "code",
   "execution_count": 27,
   "id": "continuing-farming",
   "metadata": {},
   "outputs": [],
   "source": [
    "import json"
   ]
  },
  {
   "cell_type": "code",
   "execution_count": 101,
   "id": "after-ireland",
   "metadata": {},
   "outputs": [],
   "source": [
    "import timeit"
   ]
  },
  {
   "cell_type": "code",
   "execution_count": 1,
   "id": "informal-southwest",
   "metadata": {},
   "outputs": [],
   "source": [
    "import os\n",
    "import pandas as pd\n",
    "import firebase_admin\n",
    "from firebase_admin import credentials, firestore"
   ]
  },
  {
   "cell_type": "code",
   "execution_count": 3,
   "id": "accomplished-attraction",
   "metadata": {},
   "outputs": [],
   "source": [
    "os.chdir('..')\n",
    "cert = os.path.abspath(os.curdir + '/sdk_key/igo-stats-firebase-adminsdk-vwmdk-b32d0db07c.json')"
   ]
  },
  {
   "cell_type": "code",
   "execution_count": 9,
   "id": "returning-reunion",
   "metadata": {},
   "outputs": [
    {
     "data": {
      "text/plain": [
       "['players.csv', 'players-tournaments.csv', 'tournaments.csv', 'towns.csv']"
      ]
     },
     "execution_count": 9,
     "metadata": {},
     "output_type": "execute_result"
    }
   ],
   "source": [
    "local_db_folder = os.curdir + '/db-samples'\n",
    "tables = os.listdir(local_db_folder)\n",
    "tables"
   ]
  },
  {
   "cell_type": "markdown",
   "id": "spread-english",
   "metadata": {},
   "source": [
    "### Connect to firestore db"
   ]
  },
  {
   "cell_type": "code",
   "execution_count": 5,
   "id": "cooperative-antarctica",
   "metadata": {},
   "outputs": [],
   "source": [
    "cred = credentials.Certificate(cert)\n",
    "default_app = firebase_admin.initialize_app(cred)"
   ]
  },
  {
   "cell_type": "code",
   "execution_count": 6,
   "id": "indoor-packing",
   "metadata": {},
   "outputs": [],
   "source": [
    "fs_db = firestore.client()"
   ]
  },
  {
   "cell_type": "markdown",
   "id": "pleasant-grammar",
   "metadata": {},
   "source": [
    "### Load local db"
   ]
  },
  {
   "cell_type": "code",
   "execution_count": 17,
   "id": "brief-speech",
   "metadata": {},
   "outputs": [],
   "source": [
    "players_header = ['id', 'last_name', 'first_name', 'birth_date', 'town_id', 'rating', 'last_game', 'last_update']"
   ]
  },
  {
   "cell_type": "code",
   "execution_count": 21,
   "id": "nonprofit-cloud",
   "metadata": {},
   "outputs": [],
   "source": [
    "players_table = pd.read_csv(local_db_folder + '/' + tables[0], header=None)\n",
    "players_table.columns = players_header"
   ]
  },
  {
   "cell_type": "code",
   "execution_count": 89,
   "id": "native-ministry",
   "metadata": {},
   "outputs": [],
   "source": [
    "# Data slice for test\n",
    "players_table_test = players_table[:5]"
   ]
  },
  {
   "cell_type": "code",
   "execution_count": 99,
   "id": "announced-elite",
   "metadata": {},
   "outputs": [],
   "source": [
    "json_string = players_table_test.to_json(orient='records')"
   ]
  },
  {
   "cell_type": "code",
   "execution_count": 74,
   "id": "surgical-bowling",
   "metadata": {},
   "outputs": [],
   "source": [
    "# Print json file (to check)\n",
    "'''\n",
    "parsed = json.loads(json_string) # json -> list of dicts\n",
    "readable_json = json.dumps(parsed, indent = 4, ensure_ascii=False).encode('utf8')\n",
    "final_json_string = readable_json.decode()\n",
    "print(final_json)\n",
    "'''"
   ]
  },
  {
   "cell_type": "markdown",
   "id": "editorial-correction",
   "metadata": {},
   "source": [
    "### Class for uploading JSON files or strings to Firestore"
   ]
  },
  {
   "cell_type": "code",
   "execution_count": 98,
   "id": "individual-cigarette",
   "metadata": {},
   "outputs": [],
   "source": [
    "class UploadJsonToFirestore:\n",
    "    def __init__(self, json_data, method, collection_name):\n",
    "        # Get class running time\n",
    "        self.start = timeit.default_timer()\n",
    "        \n",
    "        # Initialize instance variables\n",
    "        self.json_data = json_data\n",
    "        self.method = method\n",
    "        self.collection_name = collection_name\n",
    "    \n",
    "    def __str__(self) -> str:\n",
    "        return (f'Uploading ***{self.file}*** JSON items to firestore!')\n",
    "    \n",
    "    # Firestore upload method getter method\n",
    "    @property\n",
    "    def method(self):\n",
    "        return self._method\n",
    "    \n",
    "    # Firestore upload method setter method\n",
    "    @method.setter\n",
    "    def method(self, val):\n",
    "        if val == 'set' or val == 'add':\n",
    "            self._method = val\n",
    "        else:\n",
    "            print(f'Wrong method {val}, use set or add')\n",
    "    \n",
    "    # Collection name getter method\n",
    "    @property\n",
    "    def collection_name(self):\n",
    "        return self._collection_name\n",
    "    \n",
    "    # Collection name setter method\n",
    "    @collection_name.setter\n",
    "    def collection_name(self, val):\n",
    "        if type(val) == str:\n",
    "            self._collection_name = val\n",
    "        else:\n",
    "            print(f'Wrong type for firestore collection name')\n",
    "    \n",
    "    # Get Json file path property\n",
    "    @property\n",
    "    def json_data(self):\n",
    "        return self._json_data\n",
    "    \n",
    "    # Set and process Json file path property\n",
    "    @json_data.setter\n",
    "    def json_data(self, val):\n",
    "        if val:\n",
    "            try:\n",
    "                # returns JSON object as a dictionary\n",
    "                data = json.load(val)\n",
    "                \n",
    "                self._json_data = data\n",
    "            except Exception as e:\n",
    "                print(f'FILE EXCEPTION: {str(e)}')\n",
    "        else:\n",
    "            print(f'Wrong file path {val}')\n",
    "\n",
    "    # Main class method to populate firestore \n",
    "    # with the said data\n",
    "    def upload(self):\n",
    "        if  self.json_data and self.method:\n",
    "           \n",
    "            # Iterating through the json list\n",
    "            for idx, item in enumerate(self.json_data):\n",
    "                \n",
    "                if self.method == 'set':\n",
    "                    self.set(item)\n",
    "                elif self.method == 'add':\n",
    "                    self.add(item)\n",
    "                # Successfully got to end of data;\n",
    "                # print success message\n",
    "                if idx == len(self.json_data)-1:\n",
    "                    # All the program statements\n",
    "                    stop = timeit.default_timer()\n",
    "                    print('**** SUCCESS UPLOAD ****')\n",
    "                    print(\"Time taken: \" + str(stop - self.start))\n",
    "    \n",
    "    # Collection -add- method\n",
    "    # Adds all data under a collection\n",
    "    # with firebase firestore auto generated IDS\n",
    "    def add(self, item):\n",
    "        return db.collection(self.collection_name).add(item)\n",
    "    \n",
    "    # Collection document -set- method\n",
    "    # Adds all data under a collection\n",
    "    # with custom document IDS \n",
    "    def set(self, item):\n",
    "        return db.collection(self.collection_name).document(str(item['id'])).set(item)"
   ]
  },
  {
   "cell_type": "code",
   "execution_count": 105,
   "id": "bound-influence",
   "metadata": {},
   "outputs": [
    {
     "name": "stdout",
     "output_type": "stream",
     "text": [
      "Wrong file path None\n",
      "Wrong method None, use set or add\n",
      "Wrong type for firestore collection name\n"
     ]
    }
   ],
   "source": [
    "UploadJson = UploadJsonToFirestore()"
   ]
  },
  {
   "cell_type": "code",
   "execution_count": null,
   "id": "stock-ireland",
   "metadata": {},
   "outputs": [],
   "source": []
  }
 ],
 "metadata": {
  "kernelspec": {
   "display_name": "Python 3",
   "language": "python",
   "name": "python3"
  },
  "language_info": {
   "codemirror_mode": {
    "name": "ipython",
    "version": 3
   },
   "file_extension": ".py",
   "mimetype": "text/x-python",
   "name": "python",
   "nbconvert_exporter": "python",
   "pygments_lexer": "ipython3",
   "version": "3.8.10"
  }
 },
 "nbformat": 4,
 "nbformat_minor": 5
}
